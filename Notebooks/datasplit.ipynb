{
 "cells": [
  {
   "cell_type": "markdown",
   "metadata": {},
   "source": [
    "### Loading packages, reading data"
   ]
  },
  {
   "cell_type": "code",
   "execution_count": 1,
   "metadata": {},
   "outputs": [],
   "source": [
    "import spacy\n",
    "import pandas as pd\n",
    "import numpy as np\n",
    "import matplotlib.pyplot as plt\n",
    "from sklearn.model_selection import train_test_split\n",
    "from imblearn.over_sampling import RandomOverSampler"
   ]
  },
  {
   "cell_type": "code",
   "execution_count": 2,
   "metadata": {},
   "outputs": [],
   "source": [
    "data = pd.read_csv(\"/home/linus/Documents/Skola/financial_sentiment_analysis_project/Data/all-data.csv\", encoding=\"ISO-8859-1\", header = None)\n",
    "data.columns = [\"Sentiment\", \"Sentence\"]"
   ]
  },
  {
   "cell_type": "code",
   "execution_count": 8,
   "metadata": {},
   "outputs": [],
   "source": [
    "rel_freq = data.Sentiment.value_counts()/data.shape[0]"
   ]
  },
  {
   "cell_type": "code",
   "execution_count": 10,
   "metadata": {},
   "outputs": [
    {
     "data": {
      "text/plain": [
       "neutral     0.594098\n",
       "positive    0.281263\n",
       "negative    0.124639\n",
       "Name: Sentiment, dtype: float64"
      ]
     },
     "execution_count": 10,
     "metadata": {},
     "output_type": "execute_result"
    }
   ],
   "source": [
    "rel_freq"
   ]
  },
  {
   "cell_type": "markdown",
   "metadata": {},
   "source": [
    "### splitting data into 60/20/20 for both balanced and unbalanced data"
   ]
  },
  {
   "cell_type": "code",
   "execution_count": 4,
   "metadata": {},
   "outputs": [],
   "source": [
    "train, test = train_test_split(data, test_size = 0.20, random_state = 100)\n"
   ]
  },
  {
   "cell_type": "code",
   "execution_count": 5,
   "metadata": {},
   "outputs": [],
   "source": [
    "train, valid = train_test_split(train, test_size = 0.25, random_state = 100)\n"
   ]
  },
  {
   "cell_type": "code",
   "execution_count": 6,
   "metadata": {},
   "outputs": [
    {
     "data": {
      "text/html": [
       "<div>\n",
       "<style scoped>\n",
       "    .dataframe tbody tr th:only-of-type {\n",
       "        vertical-align: middle;\n",
       "    }\n",
       "\n",
       "    .dataframe tbody tr th {\n",
       "        vertical-align: top;\n",
       "    }\n",
       "\n",
       "    .dataframe thead th {\n",
       "        text-align: right;\n",
       "    }\n",
       "</style>\n",
       "<table border=\"1\" class=\"dataframe\">\n",
       "  <thead>\n",
       "    <tr style=\"text-align: right;\">\n",
       "      <th></th>\n",
       "      <th>Sentiment</th>\n",
       "      <th>Sentence</th>\n",
       "    </tr>\n",
       "  </thead>\n",
       "  <tbody>\n",
       "    <tr>\n",
       "      <th>3379</th>\n",
       "      <td>neutral</td>\n",
       "      <td>The total size of the complex is around 25,000...</td>\n",
       "    </tr>\n",
       "    <tr>\n",
       "      <th>2974</th>\n",
       "      <td>neutral</td>\n",
       "      <td>ISMS does not disclose its financial results ,...</td>\n",
       "    </tr>\n",
       "    <tr>\n",
       "      <th>420</th>\n",
       "      <td>neutral</td>\n",
       "      <td>Capman , the Finnish alternative asset manager...</td>\n",
       "    </tr>\n",
       "    <tr>\n",
       "      <th>1015</th>\n",
       "      <td>neutral</td>\n",
       "      <td>Juha-Pekka Weckstr+¦m has been appointed Presi...</td>\n",
       "    </tr>\n",
       "    <tr>\n",
       "      <th>498</th>\n",
       "      <td>positive</td>\n",
       "      <td>Most of the increase in net sales was due to t...</td>\n",
       "    </tr>\n",
       "    <tr>\n",
       "      <th>...</th>\n",
       "      <td>...</td>\n",
       "      <td>...</td>\n",
       "    </tr>\n",
       "    <tr>\n",
       "      <th>2197</th>\n",
       "      <td>positive</td>\n",
       "      <td>The 50-50 joint venture , to be called Nokia S...</td>\n",
       "    </tr>\n",
       "    <tr>\n",
       "      <th>4800</th>\n",
       "      <td>negative</td>\n",
       "      <td>`` Operating profit declined mainly due to the...</td>\n",
       "    </tr>\n",
       "    <tr>\n",
       "      <th>740</th>\n",
       "      <td>positive</td>\n",
       "      <td>Repeats sees 2008 EBITA above 18 pct of sales .</td>\n",
       "    </tr>\n",
       "    <tr>\n",
       "      <th>1186</th>\n",
       "      <td>neutral</td>\n",
       "      <td>BasWare Order Matching automatically matches p...</td>\n",
       "    </tr>\n",
       "    <tr>\n",
       "      <th>3208</th>\n",
       "      <td>neutral</td>\n",
       "      <td>The company will also shut one paper machine i...</td>\n",
       "    </tr>\n",
       "  </tbody>\n",
       "</table>\n",
       "<p>2907 rows × 2 columns</p>\n",
       "</div>"
      ],
      "text/plain": [
       "     Sentiment                                           Sentence\n",
       "3379   neutral  The total size of the complex is around 25,000...\n",
       "2974   neutral  ISMS does not disclose its financial results ,...\n",
       "420    neutral  Capman , the Finnish alternative asset manager...\n",
       "1015   neutral  Juha-Pekka Weckstr+¦m has been appointed Presi...\n",
       "498   positive  Most of the increase in net sales was due to t...\n",
       "...        ...                                                ...\n",
       "2197  positive  The 50-50 joint venture , to be called Nokia S...\n",
       "4800  negative  `` Operating profit declined mainly due to the...\n",
       "740   positive    Repeats sees 2008 EBITA above 18 pct of sales .\n",
       "1186   neutral  BasWare Order Matching automatically matches p...\n",
       "3208   neutral  The company will also shut one paper machine i...\n",
       "\n",
       "[2907 rows x 2 columns]"
      ]
     },
     "execution_count": 6,
     "metadata": {},
     "output_type": "execute_result"
    }
   ],
   "source": [
    "train"
   ]
  },
  {
   "cell_type": "code",
   "execution_count": 7,
   "metadata": {},
   "outputs": [
    {
     "data": {
      "text/html": [
       "<div>\n",
       "<style scoped>\n",
       "    .dataframe tbody tr th:only-of-type {\n",
       "        vertical-align: middle;\n",
       "    }\n",
       "\n",
       "    .dataframe tbody tr th {\n",
       "        vertical-align: top;\n",
       "    }\n",
       "\n",
       "    .dataframe thead th {\n",
       "        text-align: right;\n",
       "    }\n",
       "</style>\n",
       "<table border=\"1\" class=\"dataframe\">\n",
       "  <thead>\n",
       "    <tr style=\"text-align: right;\">\n",
       "      <th></th>\n",
       "      <th>Sentiment</th>\n",
       "      <th>Sentence</th>\n",
       "    </tr>\n",
       "  </thead>\n",
       "  <tbody>\n",
       "    <tr>\n",
       "      <th>3600</th>\n",
       "      <td>neutral</td>\n",
       "      <td>For 2009 , net profit was EUR3m and the compan...</td>\n",
       "    </tr>\n",
       "    <tr>\n",
       "      <th>2308</th>\n",
       "      <td>positive</td>\n",
       "      <td>The EBITDA was EUR116m compared to EUR115m , c...</td>\n",
       "    </tr>\n",
       "    <tr>\n",
       "      <th>1178</th>\n",
       "      <td>neutral</td>\n",
       "      <td>As a result of the merger , the largest profes...</td>\n",
       "    </tr>\n",
       "    <tr>\n",
       "      <th>246</th>\n",
       "      <td>positive</td>\n",
       "      <td>Operating profit rose to EUR 13.5 mn from EUR ...</td>\n",
       "    </tr>\n",
       "    <tr>\n",
       "      <th>940</th>\n",
       "      <td>positive</td>\n",
       "      <td>According to a report by Neomarkka , Kuitu Fin...</td>\n",
       "    </tr>\n",
       "    <tr>\n",
       "      <th>...</th>\n",
       "      <td>...</td>\n",
       "      <td>...</td>\n",
       "    </tr>\n",
       "    <tr>\n",
       "      <th>3645</th>\n",
       "      <td>neutral</td>\n",
       "      <td>Inha Works has invested in its product develop...</td>\n",
       "    </tr>\n",
       "    <tr>\n",
       "      <th>3930</th>\n",
       "      <td>neutral</td>\n",
       "      <td>The unit 's clients are mainly in the field of...</td>\n",
       "    </tr>\n",
       "    <tr>\n",
       "      <th>748</th>\n",
       "      <td>positive</td>\n",
       "      <td>`` This is a win for all OEMs targeting to dev...</td>\n",
       "    </tr>\n",
       "    <tr>\n",
       "      <th>4620</th>\n",
       "      <td>neutral</td>\n",
       "      <td>- Among other Finnish shares traded in the US ...</td>\n",
       "    </tr>\n",
       "    <tr>\n",
       "      <th>967</th>\n",
       "      <td>positive</td>\n",
       "      <td>Sales came in at 241 mln eur , compared with 2...</td>\n",
       "    </tr>\n",
       "  </tbody>\n",
       "</table>\n",
       "<p>969 rows × 2 columns</p>\n",
       "</div>"
      ],
      "text/plain": [
       "     Sentiment                                           Sentence\n",
       "3600   neutral  For 2009 , net profit was EUR3m and the compan...\n",
       "2308  positive  The EBITDA was EUR116m compared to EUR115m , c...\n",
       "1178   neutral  As a result of the merger , the largest profes...\n",
       "246   positive  Operating profit rose to EUR 13.5 mn from EUR ...\n",
       "940   positive  According to a report by Neomarkka , Kuitu Fin...\n",
       "...        ...                                                ...\n",
       "3645   neutral  Inha Works has invested in its product develop...\n",
       "3930   neutral  The unit 's clients are mainly in the field of...\n",
       "748   positive  `` This is a win for all OEMs targeting to dev...\n",
       "4620   neutral  - Among other Finnish shares traded in the US ...\n",
       "967   positive  Sales came in at 241 mln eur , compared with 2...\n",
       "\n",
       "[969 rows x 2 columns]"
      ]
     },
     "execution_count": 7,
     "metadata": {},
     "output_type": "execute_result"
    }
   ],
   "source": [
    "valid"
   ]
  },
  {
   "cell_type": "code",
   "execution_count": 8,
   "metadata": {},
   "outputs": [
    {
     "data": {
      "text/html": [
       "<div>\n",
       "<style scoped>\n",
       "    .dataframe tbody tr th:only-of-type {\n",
       "        vertical-align: middle;\n",
       "    }\n",
       "\n",
       "    .dataframe tbody tr th {\n",
       "        vertical-align: top;\n",
       "    }\n",
       "\n",
       "    .dataframe thead th {\n",
       "        text-align: right;\n",
       "    }\n",
       "</style>\n",
       "<table border=\"1\" class=\"dataframe\">\n",
       "  <thead>\n",
       "    <tr style=\"text-align: right;\">\n",
       "      <th></th>\n",
       "      <th>Sentiment</th>\n",
       "      <th>Sentence</th>\n",
       "    </tr>\n",
       "  </thead>\n",
       "  <tbody>\n",
       "    <tr>\n",
       "      <th>1903</th>\n",
       "      <td>neutral</td>\n",
       "      <td>Kesko www.kesko.fi is a Finnish retail special...</td>\n",
       "    </tr>\n",
       "    <tr>\n",
       "      <th>1625</th>\n",
       "      <td>neutral</td>\n",
       "      <td>The contracts awarded to date , in connection ...</td>\n",
       "    </tr>\n",
       "    <tr>\n",
       "      <th>1567</th>\n",
       "      <td>positive</td>\n",
       "      <td>Nokia will continue to invest in future develo...</td>\n",
       "    </tr>\n",
       "    <tr>\n",
       "      <th>208</th>\n",
       "      <td>positive</td>\n",
       "      <td>Ragutis , which is controlled by the Finnish b...</td>\n",
       "    </tr>\n",
       "    <tr>\n",
       "      <th>1225</th>\n",
       "      <td>neutral</td>\n",
       "      <td>Following the registration , the number of iss...</td>\n",
       "    </tr>\n",
       "    <tr>\n",
       "      <th>...</th>\n",
       "      <td>...</td>\n",
       "      <td>...</td>\n",
       "    </tr>\n",
       "    <tr>\n",
       "      <th>3954</th>\n",
       "      <td>neutral</td>\n",
       "      <td>Tikkurila acquired a majority stake in Kolorit...</td>\n",
       "    </tr>\n",
       "    <tr>\n",
       "      <th>2937</th>\n",
       "      <td>neutral</td>\n",
       "      <td>Her work at NetApp included strategically repo...</td>\n",
       "    </tr>\n",
       "    <tr>\n",
       "      <th>709</th>\n",
       "      <td>positive</td>\n",
       "      <td>Due to rapid expansion , the market share of T...</td>\n",
       "    </tr>\n",
       "    <tr>\n",
       "      <th>4628</th>\n",
       "      <td>neutral</td>\n",
       "      <td>Sales in local currencies decreased by 0.5 per...</td>\n",
       "    </tr>\n",
       "    <tr>\n",
       "      <th>1184</th>\n",
       "      <td>positive</td>\n",
       "      <td>Atria Group is a leading Scandinavian meat pro...</td>\n",
       "    </tr>\n",
       "  </tbody>\n",
       "</table>\n",
       "<p>970 rows × 2 columns</p>\n",
       "</div>"
      ],
      "text/plain": [
       "     Sentiment                                           Sentence\n",
       "1903   neutral  Kesko www.kesko.fi is a Finnish retail special...\n",
       "1625   neutral  The contracts awarded to date , in connection ...\n",
       "1567  positive  Nokia will continue to invest in future develo...\n",
       "208   positive  Ragutis , which is controlled by the Finnish b...\n",
       "1225   neutral  Following the registration , the number of iss...\n",
       "...        ...                                                ...\n",
       "3954   neutral  Tikkurila acquired a majority stake in Kolorit...\n",
       "2937   neutral  Her work at NetApp included strategically repo...\n",
       "709   positive  Due to rapid expansion , the market share of T...\n",
       "4628   neutral  Sales in local currencies decreased by 0.5 per...\n",
       "1184  positive  Atria Group is a leading Scandinavian meat pro...\n",
       "\n",
       "[970 rows x 2 columns]"
      ]
     },
     "execution_count": 8,
     "metadata": {},
     "output_type": "execute_result"
    }
   ],
   "source": [
    "test"
   ]
  },
  {
   "cell_type": "code",
   "execution_count": 9,
   "metadata": {},
   "outputs": [
    {
     "data": {
      "text/plain": [
       "0.6"
      ]
     },
     "execution_count": 9,
     "metadata": {},
     "output_type": "execute_result"
    }
   ],
   "source": [
    "2907/4845"
   ]
  },
  {
   "cell_type": "markdown",
   "metadata": {},
   "source": [
    "### Creating a balanced dataset using naive Random oversampling\n",
    "\n",
    "Trying to create a balanced data set using random oversampling, data points of the minority classes will be sampled with replacement and appended to the original data. Using the library imblearn to solve this."
   ]
  },
  {
   "cell_type": "code",
   "execution_count": 10,
   "metadata": {},
   "outputs": [],
   "source": [
    "# Using code similar to the documentation example. \n",
    "\n",
    "random_sampler = RandomOverSampler(random_state= 100)\n",
    "balanced_sentences, balanced_sentiment = random_sampler.fit_resample(train.Sentence.values.reshape(2907,1), train.Sentiment)"
   ]
  },
  {
   "cell_type": "code",
   "execution_count": 11,
   "metadata": {},
   "outputs": [],
   "source": [
    "train_balanced = pd.DataFrame(\n",
    "    {\"Sentences\" : balanced_sentences[:,0],\n",
    "    \"Sentiment\" : balanced_sentiment.values\n",
    "    }\n",
    ")"
   ]
  },
  {
   "cell_type": "code",
   "execution_count": 15,
   "metadata": {},
   "outputs": [
    {
     "data": {
      "text/plain": [
       "neutral     1715\n",
       "positive    1715\n",
       "negative    1715\n",
       "Name: Sentiment, dtype: int64"
      ]
     },
     "execution_count": 15,
     "metadata": {},
     "output_type": "execute_result"
    }
   ],
   "source": [
    "train_balanced.Sentiment.value_counts()"
   ]
  },
  {
   "cell_type": "code",
   "execution_count": 16,
   "metadata": {},
   "outputs": [
    {
     "data": {
      "text/html": [
       "<div>\n",
       "<style scoped>\n",
       "    .dataframe tbody tr th:only-of-type {\n",
       "        vertical-align: middle;\n",
       "    }\n",
       "\n",
       "    .dataframe tbody tr th {\n",
       "        vertical-align: top;\n",
       "    }\n",
       "\n",
       "    .dataframe thead th {\n",
       "        text-align: right;\n",
       "    }\n",
       "</style>\n",
       "<table border=\"1\" class=\"dataframe\">\n",
       "  <thead>\n",
       "    <tr style=\"text-align: right;\">\n",
       "      <th></th>\n",
       "      <th>Sentences</th>\n",
       "      <th>Sentiment</th>\n",
       "    </tr>\n",
       "  </thead>\n",
       "  <tbody>\n",
       "    <tr>\n",
       "      <th>0</th>\n",
       "      <td>The total size of the complex is around 25,000...</td>\n",
       "      <td>neutral</td>\n",
       "    </tr>\n",
       "    <tr>\n",
       "      <th>1</th>\n",
       "      <td>ISMS does not disclose its financial results ,...</td>\n",
       "      <td>neutral</td>\n",
       "    </tr>\n",
       "    <tr>\n",
       "      <th>2</th>\n",
       "      <td>Capman , the Finnish alternative asset manager...</td>\n",
       "      <td>neutral</td>\n",
       "    </tr>\n",
       "    <tr>\n",
       "      <th>3</th>\n",
       "      <td>Juha-Pekka Weckstr+¦m has been appointed Presi...</td>\n",
       "      <td>neutral</td>\n",
       "    </tr>\n",
       "    <tr>\n",
       "      <th>4</th>\n",
       "      <td>Most of the increase in net sales was due to t...</td>\n",
       "      <td>positive</td>\n",
       "    </tr>\n",
       "    <tr>\n",
       "      <th>...</th>\n",
       "      <td>...</td>\n",
       "      <td>...</td>\n",
       "    </tr>\n",
       "    <tr>\n",
       "      <th>5140</th>\n",
       "      <td>Satama 's net sales would be higher than the y...</td>\n",
       "      <td>positive</td>\n",
       "    </tr>\n",
       "    <tr>\n",
       "      <th>5141</th>\n",
       "      <td>Growth was strongest in F-Secure 's operator I...</td>\n",
       "      <td>positive</td>\n",
       "    </tr>\n",
       "    <tr>\n",
       "      <th>5142</th>\n",
       "      <td>Operating profit totaled EUR 825mn , up from E...</td>\n",
       "      <td>positive</td>\n",
       "    </tr>\n",
       "    <tr>\n",
       "      <th>5143</th>\n",
       "      <td>The money will be spent `` on strengthening th...</td>\n",
       "      <td>positive</td>\n",
       "    </tr>\n",
       "    <tr>\n",
       "      <th>5144</th>\n",
       "      <td>Vacon 's cash flow from operations grew to EUR...</td>\n",
       "      <td>positive</td>\n",
       "    </tr>\n",
       "  </tbody>\n",
       "</table>\n",
       "<p>5145 rows × 2 columns</p>\n",
       "</div>"
      ],
      "text/plain": [
       "                                              Sentences Sentiment\n",
       "0     The total size of the complex is around 25,000...   neutral\n",
       "1     ISMS does not disclose its financial results ,...   neutral\n",
       "2     Capman , the Finnish alternative asset manager...   neutral\n",
       "3     Juha-Pekka Weckstr+¦m has been appointed Presi...   neutral\n",
       "4     Most of the increase in net sales was due to t...  positive\n",
       "...                                                 ...       ...\n",
       "5140  Satama 's net sales would be higher than the y...  positive\n",
       "5141  Growth was strongest in F-Secure 's operator I...  positive\n",
       "5142  Operating profit totaled EUR 825mn , up from E...  positive\n",
       "5143  The money will be spent `` on strengthening th...  positive\n",
       "5144  Vacon 's cash flow from operations grew to EUR...  positive\n",
       "\n",
       "[5145 rows x 2 columns]"
      ]
     },
     "execution_count": 16,
     "metadata": {},
     "output_type": "execute_result"
    }
   ],
   "source": [
    "train_balanced"
   ]
  },
  {
   "cell_type": "markdown",
   "metadata": {},
   "source": [
    "### Writing to csv files"
   ]
  },
  {
   "cell_type": "code",
   "execution_count": 13,
   "metadata": {},
   "outputs": [],
   "source": [
    "train.to_csv(\"/home/linus/Documents/Skola/financial_sentiment_analysis_project/Data/train.csv\", index=False)\n",
    "valid.to_csv(\"/home/linus/Documents/Skola/financial_sentiment_analysis_project/Data/valid.csv\", index=False)\n",
    "test.to_csv(\"/home/linus/Documents/Skola/financial_sentiment_analysis_project/Data/test.csv\", index=False)"
   ]
  },
  {
   "cell_type": "code",
   "execution_count": 14,
   "metadata": {},
   "outputs": [],
   "source": [
    "train_balanced.to_csv(\"/home/linus/Documents/Skola/financial_sentiment_analysis_project/Data/train_balanced.csv\", index=False)"
   ]
  },
  {
   "cell_type": "markdown",
   "metadata": {},
   "source": [
    "# Links used\n",
    "\n",
    "https://imbalanced-learn.org/stable/over_sampling.html#naive-random-over-sampling"
   ]
  }
 ],
 "metadata": {
  "kernelspec": {
   "display_name": "Python 3 (ipykernel)",
   "language": "python",
   "name": "python3"
  },
  "language_info": {
   "codemirror_mode": {
    "name": "ipython",
    "version": 3
   },
   "file_extension": ".py",
   "mimetype": "text/x-python",
   "name": "python",
   "nbconvert_exporter": "python",
   "pygments_lexer": "ipython3",
   "version": "3.9.12"
  },
  "vscode": {
   "interpreter": {
    "hash": "2211f21cd22a27db0e891ff8c9f566e1d803534cba35e4f448dd8e21b2f5d0b5"
   }
  }
 },
 "nbformat": 4,
 "nbformat_minor": 2
}
